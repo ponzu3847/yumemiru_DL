{
 "cells": [
  {
   "cell_type": "code",
   "execution_count": 1,
   "metadata": {},
   "outputs": [
    {
     "name": "stdout",
     "output_type": "stream",
     "text": [
      "[1.  0.4]\n",
      "[4.8 2. ]\n"
     ]
    }
   ],
   "source": [
    "#行列の掛け算でバックプロパゲーションを行う\n",
    "import numpy as np\n",
    "\n",
    "e3=np.array([0.8,0.6])\n",
    "E2=np.array([[3.0/(3.0+1.0),4.0/(4.0+2.0)],\n",
    "             [1.0/(3.0+1.0),2.0/(4.0+2.0)]])\n",
    "print(np.dot(E2,e3))\n",
    "\n",
    "#行列式の分母を消す\n",
    "#重みが大きいほど多くの出力誤差が隠れ層に戻ればよいので、分母はいらない\n",
    "W3=np.array([[3.0,4.0],\n",
    "             [1.0,2.0]])\n",
    "print(np.dot(W3,e3))"
   ]
  },
  {
   "cell_type": "code",
   "execution_count": null,
   "metadata": {},
   "outputs": [],
   "source": []
  }
 ],
 "metadata": {
  "kernelspec": {
   "display_name": "Python 3",
   "language": "python",
   "name": "python3"
  },
  "language_info": {
   "codemirror_mode": {
    "name": "ipython",
    "version": 3
   },
   "file_extension": ".py",
   "mimetype": "text/x-python",
   "name": "python",
   "nbconvert_exporter": "python",
   "pygments_lexer": "ipython3",
   "version": "3.7.7"
  }
 },
 "nbformat": 4,
 "nbformat_minor": 4
}
