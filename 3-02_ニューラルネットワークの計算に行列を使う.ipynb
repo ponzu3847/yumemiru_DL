{
 "cells": [
  {
   "cell_type": "code",
   "execution_count": 2,
   "metadata": {
    "collapsed": true
   },
   "outputs": [
    {
     "name": "stdout",
     "output_type": "stream",
     "text": [
      "Y= [ 5 11 17]\n"
     ]
    }
   ],
   "source": [
    "#0層と１層から成るニューラルネットワークの実装\n",
    "import numpy as np\n",
    "\n",
    "X=np.array([1,2])\n",
    "W=np.array([[1,3,5],\n",
    "           [2,4,6]])\n",
    "Y=np.dot(X,W)\n",
    "print(\"Y=\",Y)"
   ]
  },
  {
   "cell_type": "code",
   "execution_count": 12,
   "metadata": {},
   "outputs": [
    {
     "name": "stdout",
     "output_type": "stream",
     "text": [
      "第0層の出力: [1.  0.5]\n",
      "第1層の入力: [0.3 0.7 1.1]\n",
      "第1層の出力: [0.57444252 0.66818777 0.75026011]\n",
      "第2層の入力: [0.51615984 1.63018679]\n",
      "第2層の出力: [0.62624937 0.83619523]\n",
      "第3層の入力: [0.32986398 0.7223529 ]\n",
      "第3層の出力: [0.32986398 0.7223529 ]\n"
     ]
    }
   ],
   "source": [
    "#3層ニューラルネットワークの実装\n",
    "    #第1層の入力\n",
    "import numpy as np\n",
    "\n",
    "X=np.array([1.0,0.5])\n",
    "W1=np.array([[0.1,0.3,0.5],\n",
    "             [0.2,0.4,0.6]])\n",
    "B1=np.array([0.1,0.2,0.3])\n",
    "A1=np.dot(X,W1)+B1\n",
    "print(\"第0層の出力:\",X)\n",
    "print(\"第1層の入力:\",A1)\n",
    "\n",
    "    #第1層から信号を出力する\n",
    "def sigmoid(x):\n",
    "    return 1/(1+np.exp(-x))\n",
    "\n",
    "Z1=sigmoid(A1)\n",
    "print(\"第1層の出力:\",Z1)\n",
    "\n",
    "    #第2層への入力と出力\n",
    "W2=np.array([[0.1,0.5],\n",
    "             [0.2,0.7],\n",
    "             [0.3,0.9]])\n",
    "B2=np.array([0.1,0.2])\n",
    "A2=np.dot(Z1,W2)+B2\n",
    "Z2=sigmoid(A2)\n",
    "print(\"第2層の入力:\",A2)\n",
    "print(\"第2層の出力:\",Z2)\n",
    "\n",
    "    #第3層の入力と出力\n",
    "def identify(x):#恒等関数\n",
    "    return x\n",
    "\n",
    "W3=np.array([[0.1,0.3],\n",
    "            [0.2,0.4]])\n",
    "B3=np.array([0.1,0.2])\n",
    "A3=np.dot(Z2,W3)+B3\n",
    "Y=identify(A3)\n",
    "print(\"第3層の入力:\",A3)\n",
    "print(\"第3層の出力:\",Y)"
   ]
  },
  {
   "cell_type": "code",
   "execution_count": 14,
   "metadata": {},
   "outputs": [
    {
     "name": "stdout",
     "output_type": "stream",
     "text": [
      "[0.31682708 0.69627909]\n"
     ]
    }
   ],
   "source": [
    "#3層ニューラルネットワークの完成\n",
    "import numpy as np\n",
    "\n",
    "def sigmoid(x):\n",
    "    return 1/(1+np.exp(-x))\n",
    "\n",
    "def identify(x):\n",
    "    return x\n",
    "\n",
    "def create_network():\n",
    "    network={}#ディクショナリを作成\n",
    "    network[\"w1\"]=np.array([[0.1,0.3,0.5],\n",
    "                            [0.2,0.4,0.6]])\n",
    "    network[\"b1\"]=np.array([0.1,0.2,0.3])\n",
    "    network[\"w2\"]=np.array([[0.1,0.4],\n",
    "                            [0.2,0.5],\n",
    "                            [0.3,0.6]])\n",
    "    network[\"b2\"]=np.array([0.1,0.2])\n",
    "    network[\"w3\"]=np.array([[0.1,0.3],\n",
    "                            [0.2,0.4]])\n",
    "    network[\"b3\"]=np.array([0.1,0.2])\n",
    "    \n",
    "    return network\n",
    "\n",
    "def propagation(network,\n",
    "                x):\n",
    "    w1,w2,w3=network[\"w1\"],network[\"w2\"],network[\"w3\"]\n",
    "    b1,b2,b3=network[\"b1\"],network[\"b2\"],network[\"b3\"]\n",
    "    \n",
    "    a1=np.dot(x,w1)+b1\n",
    "    z1=sigmoid(a1)\n",
    "    a2=np.dot(z1,w2)+b2\n",
    "    z2=sigmoid(a2)\n",
    "    a3=np.dot(z2,w3)+b3\n",
    "    y=identify(a3)\n",
    "    \n",
    "    return y\n",
    "\n",
    "network=create_network()\n",
    "x=np.array([1.0,0.5])\n",
    "y=propagation(network,x)\n",
    "print(y)"
   ]
  },
  {
   "cell_type": "code",
   "execution_count": null,
   "metadata": {},
   "outputs": [],
   "source": []
  }
 ],
 "metadata": {
  "kernelspec": {
   "display_name": "Python 3",
   "language": "python",
   "name": "python3"
  },
  "language_info": {
   "codemirror_mode": {
    "name": "ipython",
    "version": 3
   },
   "file_extension": ".py",
   "mimetype": "text/x-python",
   "name": "python",
   "nbconvert_exporter": "python",
   "pygments_lexer": "ipython3",
   "version": "3.7.7"
  }
 },
 "nbformat": 4,
 "nbformat_minor": 4
}
