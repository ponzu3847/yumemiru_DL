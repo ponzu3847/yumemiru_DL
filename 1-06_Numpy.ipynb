{
 "cells": [
  {
   "cell_type": "code",
   "execution_count": 30,
   "metadata": {
    "collapsed": true
   },
   "outputs": [
    {
     "name": "stdout",
     "output_type": "stream",
     "text": [
      "[1 2 3]\n",
      "1\n",
      "[  1   2 100]\n"
     ]
    }
   ],
   "source": [
    "#numpyのインポート\n",
    "import numpy as np#npとしてnumpyをインポート\n",
    "\n",
    "x=np.array([1,2,3])#arrayコンストラクターでベクトルを生成\n",
    "print(x)\n",
    "print(x[0])\n",
    "x[2]=100\n",
    "print(x)"
   ]
  },
  {
   "cell_type": "code",
   "execution_count": 7,
   "metadata": {
    "collapsed": true
   },
   "outputs": [
    {
     "name": "stdout",
     "output_type": "stream",
     "text": [
      "[5 7 9]\n",
      "[-3 -3 -3]\n",
      "[ 4 10 18]\n",
      "[0.25 0.4  0.5 ]\n"
     ]
    }
   ],
   "source": [
    "#ベクトルの算術演算\n",
    "import numpy as np#npとしてnumpyをインポート\n",
    "\n",
    "x=np.array([1,2,3])\n",
    "y=np.array([4,5,6])\n",
    "\n",
    "print(x+y)\n",
    "print(x-y)\n",
    "print(x*y)\n",
    "print(x/y)"
   ]
  },
  {
   "cell_type": "code",
   "execution_count": 17,
   "metadata": {
    "collapsed": true
   },
   "outputs": [
    {
     "name": "stdout",
     "output_type": "stream",
     "text": [
      "[1. 2. 3. 4. 5.]\n",
      "[11. 12. 13. 14. 15.]\n",
      "[0. 1. 2. 3. 4.]\n",
      "[10. 20. 30. 40. 50.]\n",
      "[0.5 1.  1.5 2.  2.5]\n",
      "[0. 1. 1. 2. 2.]\n",
      "[1. 0. 1. 0. 1.]\n"
     ]
    }
   ],
   "source": [
    "#ベクトルのスカラー演算\n",
    "import numpy as np#npとしてnumpyをインポート\n",
    "\n",
    "x=np.array([1,2,3,4,5],dtype=np.float)\n",
    "print(x)\n",
    "#numpyのndarrayオブジェクトとして作成したベクトル列はループなしで一括処理可能\n",
    "print(x+10)\n",
    "print(x-1)\n",
    "print(x*10)\n",
    "print(x/2)\n",
    "print(x//2)#割り算結果を整数だけにする\n",
    "print(x%2)#剰余"
   ]
  },
  {
   "cell_type": "code",
   "execution_count": 21,
   "metadata": {
    "collapsed": true
   },
   "outputs": [
    {
     "name": "stdout",
     "output_type": "stream",
     "text": [
      "[ 1.  4.  9. 16. 25.]\n",
      "[ 1.  4.  9. 16. 25.]\n",
      "[1.         1.41421356 1.73205081 2.         2.23606798]\n"
     ]
    }
   ],
   "source": [
    "#ベクトルの累乗、平方根\n",
    "import numpy as np#npとしてnumpyをインポート\n",
    "\n",
    "x=np.array([1,2,3,4,5],dtype=float)\n",
    "print(np.power(x,2))#累乗\n",
    "print(x**2)#累乗\n",
    "print(np.sqrt(x))#平方根"
   ]
  },
  {
   "cell_type": "code",
   "execution_count": 26,
   "metadata": {
    "collapsed": true
   },
   "outputs": [
    {
     "name": "stdout",
     "output_type": "stream",
     "text": [
      "60.0\n",
      "35.0\n",
      "47.5\n",
      "72.91666666666667\n",
      "8.539125638299666\n"
     ]
    }
   ],
   "source": [
    "#平均、分散、最大値、最小値\n",
    "import numpy as np#npとしてnumpyをインポート\n",
    "\n",
    "x=np.array([35,40,45,50,55,60],dtype=float)\n",
    "print(np.max(x))\n",
    "print(np.min(x))\n",
    "print(np.mean(x))#平均\n",
    "print(np.var(x))#分散\n",
    "print(np.std(x))#標準偏差"
   ]
  },
  {
   "cell_type": "code",
   "execution_count": 29,
   "metadata": {
    "collapsed": true
   },
   "outputs": [
    {
     "name": "stdout",
     "output_type": "stream",
     "text": [
      "[50 70 90]\n",
      "[-30 -30 -30]\n",
      "[0.25 0.4  0.5 ]\n"
     ]
    }
   ],
   "source": [
    "#ベクトル同士の四則演算\n",
    "import numpy as np#npとしてnumpyをインポート\n",
    "\n",
    "vec1=np.array([10,20,30])\n",
    "vec2=np.array([40,50,60])\n",
    "\n",
    "print(vec1+vec2)\n",
    "print(vec1-vec2)\n",
    "print(vec1/vec2)#ベクトル同士の割り算は本来はできないので注意"
   ]
  },
  {
   "cell_type": "code",
   "execution_count": 31,
   "metadata": {
    "collapsed": true
   },
   "outputs": [
    {
     "data": {
      "text/plain": [
       "array([ 400., 1000., 1800.])"
      ]
     },
     "execution_count": 31,
     "metadata": {},
     "output_type": "execute_result"
    }
   ],
   "source": [
    "#ベクトル要素同士の積（アダマール積）\n",
    "import numpy as np#npとしてnumpyをインポート\n",
    "\n",
    "vec1=np.array([10,20,30])\n",
    "vec2=np.array([40,50.,60])\n",
    "\n",
    "print(vec1*vec2)#ベクトル同士のアダマール積"
   ]
  },
  {
   "cell_type": "code",
   "execution_count": 4,
   "metadata": {
    "collapsed": true
   },
   "outputs": [
    {
     "name": "stdout",
     "output_type": "stream",
     "text": [
      "23\n",
      "13\n"
     ]
    }
   ],
   "source": [
    "#ベクトルの内積\n",
    "import numpy as np#npとしてnumpyをインポート\n",
    "\n",
    "vec1=np.array([2,3])\n",
    "vec2=np.array([4,5])\n",
    "print(np.dot(vec1,vec2))#ベクトルの内積\n",
    "vec3=np.array([4,5,-6])\n",
    "vec4=np.array([-2,3,-1])\n",
    "print(np.dot(vec3,vec4))#ベクトルの内積"
   ]
  },
  {
   "cell_type": "code",
   "execution_count": 3,
   "metadata": {
    "collapsed": true
   },
   "outputs": [
    {
     "name": "stdout",
     "output_type": "stream",
     "text": [
      "[[1. 2. 3.]\n",
      " [4. 5. 6.]\n",
      " [7. 8. 9.]]\n"
     ]
    }
   ],
   "source": [
    "#多次元配列で行列を表現する\n",
    "import numpy as np#npとしてnumpyをインポート\n",
    "\n",
    "mtx=np.array([[1,2,3],\n",
    "            [4,5,6],\n",
    "            [7,8,9]],\n",
    "            dtype=float)\n",
    "print(mtx)"
   ]
  },
  {
   "cell_type": "code",
   "execution_count": 10,
   "metadata": {
    "collapsed": true
   },
   "outputs": [
    {
     "name": "stdout",
     "output_type": "stream",
     "text": [
      "[[11. 12. 13.]\n",
      " [14. 15. 16.]\n",
      " [17. 18. 19.]]\n",
      "[[-9. -8. -7.]\n",
      " [-6. -5. -4.]\n",
      " [-3. -2. -1.]]\n",
      "[[ 2.  4.  6.]\n",
      " [ 8. 10. 12.]\n",
      " [14. 16. 18.]]\n",
      "[[0.5 1.  1.5]\n",
      " [2.  2.5 3. ]\n",
      " [3.5 4.  4.5]]\n",
      "[[1. 0. 1.]\n",
      " [0. 1. 0.]\n",
      " [1. 0. 1.]]\n"
     ]
    }
   ],
   "source": [
    "#行列のスカラー演算\n",
    "import numpy as np#npとしてnumpyをインポート\n",
    "\n",
    "mtx=np.array([[1,2,3],\n",
    "              [4,5,6],\n",
    "              [7,8,9]],\n",
    "              dtype=np.float)\n",
    "print(mtx+10)\n",
    "print(mtx-10)\n",
    "print(mtx*2)\n",
    "print(mtx/2)\n",
    "print(mtx%2)"
   ]
  },
  {
   "cell_type": "code",
   "execution_count": 21,
   "metadata": {
    "collapsed": true
   },
   "outputs": [
    {
     "name": "stdout",
     "output_type": "stream",
     "text": [
      "int64\n",
      "[1 2 3]\n",
      "[1 2 3]\n",
      "[1 2 3]\n",
      "[1 4 7]\n",
      "5\n",
      "[[1 2]\n",
      " [4 5]]\n"
     ]
    }
   ],
   "source": [
    "#行列の成分にアクセスする\n",
    "import numpy as np#npとしてnumpyをインポート\n",
    "\n",
    "mtx=np.array([[1,2,3],\n",
    "             [4,5,6],\n",
    "             [7,8,9]]\n",
    "            )\n",
    "\n",
    "print(mtx.dtype)#データ型を確認\n",
    "\n",
    "print(mtx[0])\n",
    "print(mtx[0,])\n",
    "print(mtx[0,:])\n",
    "print(mtx[:,0])\n",
    "print(mtx[1,1])\n",
    "print(mtx[0:2,0:2])"
   ]
  },
  {
   "cell_type": "code",
   "execution_count": 25,
   "metadata": {
    "collapsed": true
   },
   "outputs": [
    {
     "name": "stdout",
     "output_type": "stream",
     "text": [
      "[[5 5]\n",
      " [5 5]]\n",
      "[[-3 -1]\n",
      " [ 1  3]]\n"
     ]
    }
   ],
   "source": [
    "#行列の要素同士の加算減算\n",
    "import numpy as np\n",
    "\n",
    "a=np.array([[1,2],\n",
    "            [3,4]]\n",
    "          )\n",
    "\n",
    "b=np.array([[4,3],\n",
    "            [2,1]]\n",
    "          )\n",
    "\n",
    "print(a+b)\n",
    "print(a-b)"
   ]
  },
  {
   "cell_type": "code",
   "execution_count": 27,
   "metadata": {
    "collapsed": true
   },
   "outputs": [
    {
     "name": "stdout",
     "output_type": "stream",
     "text": [
      "[[ 5 12]\n",
      " [21 32]]\n",
      "[[19 22]\n",
      " [43 50]]\n"
     ]
    }
   ],
   "source": [
    "#行列の積\n",
    "import numpy as np\n",
    "\n",
    "a=np.array([[1,2],\n",
    "            [3,4]]\n",
    "          )\n",
    "b=np.array([[5,6],\n",
    "            [7,8]]\n",
    "          )\n",
    "\n",
    "print(a*b)#アダマール積\n",
    "print(np.dot(a,b))#行列の積"
   ]
  },
  {
   "cell_type": "code",
   "execution_count": 31,
   "metadata": {},
   "outputs": [
    {
     "name": "stdout",
     "output_type": "stream",
     "text": [
      "[[1 4]\n",
      " [2 5]\n",
      " [3 6]]\n"
     ]
    }
   ],
   "source": [
    "#転置行列\n",
    "import numpy as np\n",
    "\n",
    "a=np.array([[1,2,3],\n",
    "            [4,5,6]]\n",
    "          )\n",
    "\n",
    "print(np.transpose(a))"
   ]
  },
  {
   "cell_type": "code",
   "execution_count": null,
   "metadata": {},
   "outputs": [],
   "source": []
  }
 ],
 "metadata": {
  "kernelspec": {
   "display_name": "Python 3",
   "language": "python",
   "name": "python3"
  },
  "language_info": {
   "codemirror_mode": {
    "name": "ipython",
    "version": 3
   },
   "file_extension": ".py",
   "mimetype": "text/x-python",
   "name": "python",
   "nbconvert_exporter": "python",
   "pygments_lexer": "ipython3",
   "version": "3.7.7"
  }
 },
 "nbformat": 4,
 "nbformat_minor": 4
}
