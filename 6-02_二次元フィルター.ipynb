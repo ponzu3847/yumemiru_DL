{
 "cells": [
  {
   "cell_type": "code",
   "execution_count": 1,
   "metadata": {},
   "outputs": [
    {
     "name": "stderr",
     "output_type": "stream",
     "text": [
      "Using TensorFlow backend.\n"
     ]
    }
   ],
   "source": [
    "import numpy as np\n",
    "from keras.utils import np_utils\n",
    "from keras.datasets import mnist\n",
    "\n",
    "(x_train, y_train), (x_test, y_test) = mnist.load_data()\n",
    "\n",
    "x_train = x_train.reshape(60000, 28, 28, 1)#1列のデータに変換\n",
    "x_train = x_train.astype(\"float32\")\n",
    "x_train /= 255#0から255までのRGBを0から1までの値に変換\n",
    "#print(x_train[0])"
   ]
  },
  {
   "cell_type": "code",
   "execution_count": 13,
   "metadata": {},
   "outputs": [],
   "source": [
    "import matplotlib.pyplot as plt\n",
    "img_id = 42\n",
    "vertical_edge_fil = np.array([[-2, 1, 1],\n",
    "                              [-2, 1, 1],\n",
    "                              [-2, 1, 1]],\n",
    "                             dtype=float)\n",
    "horizontal_edge_fil = np.array([[1, 1, 1],\n",
    "                                [1, 1, 1],\n",
    "                                [-2, -2, -2]],\n",
    "                               dtype=float)\n",
    "img_x = x_train[img_id, :, :, 0]#42番目のすべてのデータ、1列目のデータ(1列しかない)を指定\n",
    "#print(img_x)\n",
    "img_height = 28\n",
    "img_width = 28\n",
    "img_x = img_x.reshape(img_height, img_width)#28*28の行列に変換\n",
    "vertical_edge = np.zeros_like(img_x)#垂直方向フィルターをかけた値を格納する行列(img_xと同じ行列数)を用意し、0で埋める\n",
    "#print(vertical_edge)\n",
    "horizontal_edge = np.zeros_like(img_x)#水平方向フィルターをかけた値を格納する行列(img_xと同じ行列数)を用意し、0で埋める\n",
    "\n",
    "for h in range(img_height - 3):\n",
    "    for w in range(img_width - 3):\n",
    "        img_region = img_x[h:h + 3, w:w + 3]#フィルターを適用する範囲は高さ(hからh+2)、幅(wからw+2)の範囲 ここでは3*3の行列を指す\n",
    "        #フィルター適用範囲の行列(3*3)を行ベクトル(1*9)に変換したものと、\n",
    "        #フィルター(3*3)を行ベクトル(1*9)に変換したものとの内積(要素同士すべて掛けて足し合わせた値,スカラー)を、格納用行列(3*3)の中央(h+1,w+1)に代入する\n",
    "        vertical_edge[h + 1, w + 1] = np.dot(img_region.reshape(-1),#reshape(-1):行ベクトル(1行の行列)に変換\n",
    "                                             vertical_edge_fil.reshape(-1))\n",
    "        #print(img_region.reshape(-1),vertical_edge_fil.reshape(-1))\n",
    "        horizontal_edge[h + 1, w + 1] = np.dot(img_region.reshape(-1),\n",
    "                                               horizontal_edge_fil.reshape(-1))"
   ]
  },
  {
   "cell_type": "code",
   "execution_count": 14,
   "metadata": {
    "scrolled": true
   },
   "outputs": [
    {
     "name": "stdout",
     "output_type": "stream",
     "text": [
      "7\n"
     ]
    },
    {
     "data": {
      "image/png": "[encoded data removed]",
      "text/plain": [
       "<Figure size 288x288 with 1 Axes>"
      ]
     },
     "metadata": {
      "needs_background": "light"
     },
     "output_type": "display_data"
    }
   ],
   "source": [
    "print(y_train[img_id])\n",
    "plt.figure(figsize=(4, 4))\n",
    "plt.gray()\n",
    "plt.pcolor(1 - img_x)\n",
    "plt.xlim(-1, 29)\n",
    "plt.ylim(29, -1)\n",
    "plt.grid(True)\n",
    "plt.show()"
   ]
  },
  {
   "cell_type": "code",
   "execution_count": 5,
   "metadata": {
    "scrolled": true
   },
   "outputs": [
    {
     "data": {
      "image/png": "[encoded data removed]",
      "text/plain": [
       "<Figure size 288x288 with 1 Axes>"
      ]
     },
     "metadata": {
      "needs_background": "light"
     },
     "output_type": "display_data"
    }
   ],
   "source": [
    "plt.figure(figsize=(4,4))\n",
    "plt.gray()\n",
    "plt.pcolor(vertical_edge)\n",
    "plt.xlim(-1,29)\n",
    "plt.ylim(29,-1)\n",
    "plt.grid(True)\n",
    "plt.show()"
   ]
  },
  {
   "cell_type": "code",
   "execution_count": 6,
   "metadata": {
    "scrolled": true
   },
   "outputs": [
    {
     "data": {
      "image/png": "[encoded data removed]",
      "text/plain": [
       "<Figure size 288x288 with 1 Axes>"
      ]
     },
     "metadata": {
      "needs_background": "light"
     },
     "output_type": "display_data"
    }
   ],
   "source": [
    "plt.figure(figsize=(4, 4))\n",
    "plt.gray()\n",
    "plt.pcolor(horizontal_edge)\n",
    "plt.xlim(-1, 29)\n",
    "plt.ylim(29, -1)\n",
    "plt.grid(True)\n",
    "plt.show()"
   ]
  },
  {
   "cell_type": "code",
   "execution_count": null,
   "metadata": {
    "scrolled": true
   },
   "outputs": [],
   "source": []
  }
 ],
 "metadata": {
  "kernelspec": {
   "display_name": "Python 3",
   "language": "python",
   "name": "python3"
  },
  "language_info": {
   "codemirror_mode": {
    "name": "ipython",
    "version": 3
   },
   "file_extension": ".py",
   "mimetype": "text/x-python",
   "name": "python",
   "nbconvert_exporter": "python",
   "pygments_lexer": "ipython3",
   "version": "3.7.7"
  }
 },
 "nbformat": 4,
 "nbformat_minor": 4
}
