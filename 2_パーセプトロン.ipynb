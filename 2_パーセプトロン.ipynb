{
 "cells": [
  {
   "cell_type": "code",
   "execution_count": 3,
   "metadata": {
    "collapsed": true
   },
   "outputs": [
    {
     "name": "stdout",
     "output_type": "stream",
     "text": [
      "0\n",
      "0\n",
      "0\n",
      "1\n"
     ]
    }
   ],
   "source": [
    "#AND演算\n",
    "def AND(x1,x2):\n",
    "    w1,w2,phi=0.5,0.5,0.8\n",
    "    val=x1*w1+x2*w2\n",
    "    if val<=phi:\n",
    "        return 0\n",
    "    elif val>phi:\n",
    "        return 1\n",
    "    \n",
    "print(AND(0,0))\n",
    "print(AND(1,0))\n",
    "print(AND(0,1))\n",
    "print(AND(1,1))"
   ]
  },
  {
   "cell_type": "code",
   "execution_count": 10,
   "metadata": {
    "collapsed": true
   },
   "outputs": [
    {
     "name": "stdout",
     "output_type": "stream",
     "text": [
      "0\n",
      "0\n",
      "0\n",
      "1\n"
     ]
    }
   ],
   "source": [
    "#AND演算にバイアス項を追加する\n",
    "import numpy as np\n",
    "def AND(x1,x2):\n",
    "    x1_x2=np.array([x1,x2])\n",
    "    w0=-0.8#バイアス\n",
    "    w1_w2=np.array([0.5,0.5])\n",
    "    val=w0+np.sum(w1_w2*x1_x2)#w0+w1*x1+w2*x2\n",
    "    \n",
    "    if val<=0:\n",
    "        return 0\n",
    "    elif val>0:\n",
    "        return 1\n",
    "    \n",
    "print(AND(0,0))\n",
    "print(AND(1,0))\n",
    "print(AND(0,1))\n",
    "print(AND(1,1))"
   ]
  },
  {
   "cell_type": "code",
   "execution_count": 12,
   "metadata": {
    "collapsed": true
   },
   "outputs": [
    {
     "name": "stdout",
     "output_type": "stream",
     "text": [
      "1\n",
      "1\n",
      "1\n",
      "0\n"
     ]
    }
   ],
   "source": [
    "#NAND演算\n",
    "import numpy as np\n",
    "\n",
    "def NAND(x1,x2):\n",
    "    x1_x2=np.array([x1,x2])\n",
    "    w0=0.8\n",
    "    w1_w2=np.array([-0.5,-0.5])\n",
    "    val=w0+np.sum(w1_w2*x1_x2)\n",
    "    if val<=0:\n",
    "        return 0\n",
    "    elif val>0:\n",
    "        return 1\n",
    "    \n",
    "print(NAND(0,0))\n",
    "print(NAND(1,0))\n",
    "print(NAND(0,1))\n",
    "print(NAND(1,1))"
   ]
  },
  {
   "cell_type": "code",
   "execution_count": 14,
   "metadata": {
    "collapsed": true
   },
   "outputs": [
    {
     "name": "stdout",
     "output_type": "stream",
     "text": [
      "0\n",
      "1\n",
      "1\n",
      "1\n"
     ]
    }
   ],
   "source": [
    "#OR演算\n",
    "import numpy as np\n",
    "\n",
    "def OR(x1,x2):\n",
    "    x1_x2=np.array([x1,x2])\n",
    "    w0=-0.4\n",
    "    w1_w2=np.array([0.5,0.5])\n",
    "    val=w0+np.sum(w1_w2*x1_x2)\n",
    "    if val<=0:\n",
    "        return 0\n",
    "    elif val>0:\n",
    "        return 1\n",
    "    \n",
    "print(OR(0,0))\n",
    "print(OR(1,0))\n",
    "print(OR(0,1))\n",
    "print(OR(1,1))"
   ]
  },
  {
   "cell_type": "code",
   "execution_count": 16,
   "metadata": {},
   "outputs": [
    {
     "name": "stdout",
     "output_type": "stream",
     "text": [
      "0\n",
      "1\n",
      "1\n",
      "0\n"
     ]
    }
   ],
   "source": [
    "#多層パーセプトロン\n",
    "def XOR(x1,x2):#NAND,OR,ANDを組み合わせてXORを表現する\n",
    "    _nand=NAND(x1,x2)\n",
    "    \n",
    "    _or=OR(x1,x2)\n",
    "    _xor=AND(_nand,_or)\n",
    "    return _xor\n",
    "\n",
    "print(XOR(0,0))\n",
    "print(XOR(1,0))\n",
    "print(XOR(0,1))\n",
    "print(XOR(1,1))"
   ]
  },
  {
   "cell_type": "code",
   "execution_count": null,
   "metadata": {},
   "outputs": [],
   "source": []
  }
 ],
 "metadata": {
  "kernelspec": {
   "display_name": "Python 3",
   "language": "python",
   "name": "python3"
  },
  "language_info": {
   "codemirror_mode": {
    "name": "ipython",
    "version": 3
   },
   "file_extension": ".py",
   "mimetype": "text/x-python",
   "name": "python",
   "nbconvert_exporter": "python",
   "pygments_lexer": "ipython3",
   "version": "3.7.7"
  }
 },
 "nbformat": 4,
 "nbformat_minor": 4
}
